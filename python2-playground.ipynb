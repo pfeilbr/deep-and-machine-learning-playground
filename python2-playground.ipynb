{
 "cells": [
  {
   "cell_type": "code",
   "execution_count": null,
   "metadata": {
    "collapsed": false
   },
   "outputs": [],
   "source": [
    "import pip\n",
    "fns = pip.__dict__.keys()\n",
    "fns.sort()\n",
    "fns\n",
    "pip.main(['list'])"
   ]
  },
  {
   "cell_type": "code",
   "execution_count": null,
   "metadata": {
    "collapsed": false
   },
   "outputs": [],
   "source": [
    "file_name = 'top-1m-websites.csv'\n",
    "lines = []\n",
    "with open(file_name) as f:\n",
    "    for line in f:\n",
    "        lines.append(line.strip().split(','))\n",
    "        \n",
    "domains = [[line[1], len(line[1]), idx] for idx, line in enumerate(lines)]\n",
    "\n",
    "# [ [domain_name_string, lenght_of_domain_name_string, domain_rank] ]\n",
    "\n",
    "max(domains_with_length, key=lambda item: item[1])\n",
    "sorted(domains_with_length, reverse=True, key=lambda item: item[1])[0:9]"
   ]
  },
  {
   "cell_type": "code",
   "execution_count": 43,
   "metadata": {
    "collapsed": false
   },
   "outputs": [
    {
     "data": {
      "text/plain": [
       "20"
      ]
     },
     "execution_count": 43,
     "metadata": {},
     "output_type": "execute_result"
    }
   ],
   "source": [
    "labels = ([1]*5 + [0]*5)*2\n",
    "labels"
   ]
  }
 ],
 "metadata": {
  "kernelspec": {
   "display_name": "Python 2",
   "language": "python",
   "name": "python2"
  },
  "language_info": {
   "codemirror_mode": {
    "name": "ipython",
    "version": 2
   },
   "file_extension": ".py",
   "mimetype": "text/x-python",
   "name": "python",
   "nbconvert_exporter": "python",
   "pygments_lexer": "ipython2",
   "version": "2.7.6"
  }
 },
 "nbformat": 4,
 "nbformat_minor": 0
}
